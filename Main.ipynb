{
 "cells": [
  {
   "cell_type": "code",
   "execution_count": 1,
   "metadata": {},
   "outputs": [
    {
     "name": "stdout",
     "output_type": "stream",
     "text": [
      "importing Jupyter notebook from Model_Owner.ipynb\n",
      "importing Jupyter notebook from Client.ipynb\n"
     ]
    }
   ],
   "source": [
    "import numpy as mp\n",
    "import pandas as pd\n",
    "import matplotlib.pyplot as plt\n",
    "import sklearn as sk\n",
    "from sklearn.model_selection import cross_val_score\n",
    "from sklearn.model_selection import train_test_split\n",
    "from sklearn.datasets import load_iris\n",
    "from sklearn.tree import DecisionTreeClassifier\n",
    "from sklearn.tree import plot_tree\n",
    "import socket\n",
    "import import_ipynb\n",
    "import Model_Owner as mu\n",
    "import Client as Cli\n",
    "from Pyfhel import Pyfhel\n",
    "from Crypto.Cipher import AES #pip install pycryptodome\n",
    "from base64 import b64encode, b64decode\n",
    "import os"
   ]
  },
  {
   "cell_type": "code",
   "execution_count": 2,
   "metadata": {},
   "outputs": [],
   "source": [
    "OWNERS = 1 #Number of Model Owners\n",
    "TRAINING_DATASET = 'iris.csv'\n",
    "DELIMITER = ','\n",
    "SAVEFILE = 'iris_data.sav'\n",
    "PYFHEL_OBJECTS = []\n",
    "USERS = []\n",
    "\n",
    "BLOCK_SIZE_AES = 16"
   ]
  },
  {
   "cell_type": "code",
   "execution_count": 3,
   "metadata": {},
   "outputs": [
    {
     "name": "stdout",
     "output_type": "stream",
     "text": [
      "\n",
      "The Key Generation Parameters are\n",
      "\n",
      "{'p': 257, 'r': 1, 'd': 1, 'c': 2, 'sec': 80, 'w': 64, 'L': 10, 'm': -1, 'R': 3, 's': 0, 'gens': [], 'ords': []}\n"
     ]
    }
   ],
   "source": [
    "#generate public key generation parameter\n",
    "GEN_KEY_PARAM = { \"p\":257,      \"r\":1,\n",
    "                            \"d\":1,        \"c\":2,\n",
    "                            \"sec\":80,     \"w\":64,\n",
    "                            \"L\":10,       \"m\":-1,\n",
    "                            \"R\":3,        \"s\":0,\n",
    "                            \"gens\":[],    \"ords\":[]}\n",
    "print (\"\\nThe Key Generation Parameters are\\n\")\n",
    "print (GEN_KEY_PARAM)\n"
   ]
  },
  {
   "cell_type": "code",
   "execution_count": 4,
   "metadata": {},
   "outputs": [
    {
     "name": "stdout",
     "output_type": "stream",
     "text": [
      "\n",
      "Generating Pyfhel Objects and public Parameters \n"
     ]
    }
   ],
   "source": [
    "print (\"\\nGenerating Pyfhel Objects and public Parameters \")\n",
    "\n",
    "class Algorithm():\n",
    "    \n",
    "    def __init__(self):\n",
    "        self.list_dec_tree = []\n",
    "        self.client = Cli.Client_Req()\n",
    "        \n",
    "    def train_dec_models(self):\n",
    "        print (\"Training Models\")\n",
    "        for i in range(OWNERS):\n",
    "            model = mu.User(TRAINING_DATASET,DELIMITER,SAVEFILE)\n",
    "            model.run_model()\n",
    "            self.client_features = model.test_x\n",
    "            #model.visualize()\n",
    "            model.save_model()\n",
    "            self.list_dec_tree.append(model)\n",
    "            print (\"Model \"+ str(i+1) + \" trained\")\n",
    "        print (\"Models Trained by Users\")\n",
    "            \n",
    "    def generate_tree_keys(self):\n",
    "        print (\"Generating Tree Keys\")\n",
    "        for i in range(OWNERS):\n",
    "            self.list_dec_tree[i].aes_tree(BLOCK_SIZE_AES) #create aes key\n",
    "            self.list_dec_tree[i].Pyfhel_Object() #generate pyfhel object\n",
    "            self.list_dec_tree[i].public_parameters(GEN_KEY_PARAM) #generate public parameter\n",
    "            print (\"Generating pair of keys for the model owner \" + str(i+1)) #for each user generate set of keys\n",
    "            self.list_dec_tree[i].key_generation()\n",
    "            self.list_dec_tree[i].eval_key() #generate evaluation helper key for model owners\n",
    "        \n",
    "        print (\"Tree Key Generation Completed\")\n",
    "    \n",
    "    def client_key_generation(self):\n",
    "        print (\"Generating Client Keys\")\n",
    "        self.client.get_feature_vector(self.client_features)\n",
    "        self.client.aes_client(BLOCK_SIZE_AES)  #create aes key\n",
    "        self.client.Client_Pyfhel() #generate pyfhel object\n",
    "        self.client.Client_public_parameters(GEN_KEY_PARAM) #generate public parameter\n",
    "        self.client.Client_key_generation() #for client generate keys\n",
    "        print (\"Client Key Generation Completed\")\n",
    "        \n",
    "    \n",
    "    "
   ]
  },
  {
   "cell_type": "code",
   "execution_count": 5,
   "metadata": {},
   "outputs": [
    {
     "name": "stdout",
     "output_type": "stream",
     "text": [
      "Training Models\n",
      "Model 1 trained\n",
      "Model 2 trained\n",
      "Model 3 trained\n",
      "Models Trained by Users\n",
      "Generating Tree Keys\n",
      "Generating pair of keys for the model owner 1\n",
      "Generating pair of keys for the model owner 2\n",
      "Generating pair of keys for the model owner 3\n",
      "Tree Key Generation Completed\n",
      "Generating Client Keys\n",
      "Client Key Generation Completed\n"
     ]
    }
   ],
   "source": [
    "if __name__ == \"__main__\":\n",
    "    result = Algorithm()\n",
    "    result.train_dec_models()\n",
    "    result.generate_tree_keys()\n",
    "    result.client_key_generation()\n",
    "    \n",
    "    "
   ]
  },
  {
   "cell_type": "code",
   "execution_count": null,
   "metadata": {},
   "outputs": [],
   "source": []
  }
 ],
 "metadata": {
  "kernelspec": {
   "display_name": "Python 3",
   "language": "python",
   "name": "python3"
  },
  "language_info": {
   "codemirror_mode": {
    "name": "ipython",
    "version": 3
   },
   "file_extension": ".py",
   "mimetype": "text/x-python",
   "name": "python",
   "nbconvert_exporter": "python",
   "pygments_lexer": "ipython3",
   "version": "3.8.2"
  }
 },
 "nbformat": 4,
 "nbformat_minor": 4
}
