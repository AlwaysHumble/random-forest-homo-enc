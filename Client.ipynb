{
 "cells": [
  {
   "cell_type": "code",
   "execution_count": null,
   "metadata": {},
   "outputs": [],
   "source": [
    "import numpy as mp\n",
    "import pandas as pd\n",
    "import matplotlib.pyplot as plt\n",
    "import sklearn as sk\n",
    "from sklearn.model_selection import cross_val_score\n",
    "from sklearn.model_selection import train_test_split\n",
    "from sklearn.datasets import load_iris\n",
    "from sklearn.tree import DecisionTreeClassifier\n",
    "from sklearn.tree import plot_tree\n",
    "import socket\n",
    "import pickle\n",
    "import random\n",
    "from Pyfhel import Pyfhel\n",
    "from Crypto.Cipher import AES #pip install pycryptodome\n",
    "from base64 import b64encode, b64decode\n",
    "import os\n",
    "from random import seed\n",
    "from random import randint"
   ]
  },
  {
   "cell_type": "code",
   "execution_count": null,
   "metadata": {},
   "outputs": [],
   "source": [
    "class Client_Req():\n",
    "    \n",
    "    def get_feature_vector(self,vector):\n",
    "        self.feature_vector = vector\n",
    "        #print (self.feature_vector)\n",
    "        self.enc_client = [[]]\n",
    "    \n",
    "    def Client_Pyfhel(self):\n",
    "        self.pyf = Pyfhel()\n",
    "        \n",
    "    def Client_public_parameters(self,public):\n",
    "        self.pp = self.pyf.contextGen(p=65537, m=1024, flagBatching=True) \n",
    "        \n",
    "    def Client_key_generation(self):\n",
    "        self.pyf.keyGen()\n",
    "        \n",
    "    def aes_client(self,block_size):\n",
    "        self.block_size = block_size\n",
    "        self.aes_secret_key = os.urandom(self.block_size)  #generate aes object\n",
    "        self.aes_cipher = AES.new(self.aes_secret_key, AES.MODE_CBC, iv=b'0123456789abcdef') # create a cipher object using the random secret\n",
    "        \n",
    "    def encrypt_client(self):\n",
    "        print (\"Encrypting Client Data\")\n",
    "        j = randint(0,len(self.feature_vector)-1)\n",
    "        print (j)\n",
    "        k1 = 1\n",
    "        vec = (self.feature_vector)\n",
    "        for i in vec.columns:\n",
    "            binary_list = []\n",
    "            k = self.feature_vector.loc[j,i]\n",
    "            print (k)\n",
    "            while(k):\n",
    "                temp = self.pyf.encryptInt(k%2)\n",
    "                #print (temp)\n",
    "                binary_list.append(temp)\n",
    "                k = k/2\n",
    "            self.enc_client.append(binary_list)\n",
    "            print (\"Feature number \" + str(k1) + \" encrypted\")\n",
    "            k1 = k1 +1\n",
    "        print (\"Encryption of Client Data Completed\")\n",
    "        return self.enc_client\n",
    "        "
   ]
  },
  {
   "cell_type": "code",
   "execution_count": null,
   "metadata": {},
   "outputs": [],
   "source": [
    "if __name__==\"__main__\":\n",
    "    r = Client_Req()\n",
    "    \n",
    "    "
   ]
  }
 ],
 "metadata": {
  "kernelspec": {
   "display_name": "Python 3",
   "language": "python",
   "name": "python3"
  },
  "language_info": {
   "codemirror_mode": {
    "name": "ipython",
    "version": 3
   },
   "file_extension": ".py",
   "mimetype": "text/x-python",
   "name": "python",
   "nbconvert_exporter": "python",
   "pygments_lexer": "ipython3",
   "version": "3.8.2"
  }
 },
 "nbformat": 4,
 "nbformat_minor": 4
}
